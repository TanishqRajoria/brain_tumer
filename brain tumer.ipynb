{
  "nbformat": 4,
  "nbformat_minor": 0,
  "metadata": {
    "colab": {
      "provenance": [],
      "gpuType": "T4"
    },
    "kernelspec": {
      "name": "python3",
      "display_name": "Python 3"
    },
    "language_info": {
      "name": "python"
    },
    "accelerator": "GPU"
  },
  "cells": [
    {
      "cell_type": "code",
      "execution_count": 1,
      "metadata": {
        "id": "x0lWu5TL-z3O"
      },
      "outputs": [],
      "source": [
        "!mkdir -p ~/.kaggle\n",
        "!cp kaggle.json ~/.kaggle/"
      ]
    },
    {
      "cell_type": "code",
      "source": [
        "!kaggle datasets download -d masoudnickparvar/brain-tumor-mri-dataset"
      ],
      "metadata": {
        "colab": {
          "base_uri": "https://localhost:8080/"
        },
        "id": "3JrhXVFI_Ecn",
        "outputId": "dbde6f87-c3b9-479a-ce57-56ecbe1c0325"
      },
      "execution_count": 2,
      "outputs": [
        {
          "output_type": "stream",
          "name": "stdout",
          "text": [
            "Warning: Your Kaggle API key is readable by other users on this system! To fix this, you can run 'chmod 600 /root/.kaggle/kaggle.json'\n",
            "Warning: Looks like you're using an outdated API Version, please consider updating (server 1.6.14 / client 1.6.12)\n",
            "Dataset URL: https://www.kaggle.com/datasets/masoudnickparvar/brain-tumor-mri-dataset\n",
            "License(s): CC0-1.0\n",
            "Downloading brain-tumor-mri-dataset.zip to /content\n",
            " 87% 129M/149M [00:00<00:00, 245MB/s]\n",
            "100% 149M/149M [00:00<00:00, 257MB/s]\n"
          ]
        }
      ]
    },
    {
      "cell_type": "code",
      "source": [
        "import zipfile\n",
        "zip_ref=zipfile.ZipFile('/content/brain-tumor-mri-dataset.zip')\n",
        "zip_ref.extractall('/content')\n",
        "zip_ref.close()"
      ],
      "metadata": {
        "id": "xGO-vaf4_Lxh"
      },
      "execution_count": 3,
      "outputs": []
    },
    {
      "cell_type": "code",
      "source": [
        "import numpy as np\n",
        "import pandas as pd\n",
        "import matplotlib.pyplot as plt\n",
        "from tensorflow.keras.layers import Dropout,Conv2D,MaxPooling2D,Flatten,Dense\n",
        "from tensorflow.keras import Sequential"
      ],
      "metadata": {
        "id": "J96Njy00_NO0"
      },
      "execution_count": 4,
      "outputs": []
    },
    {
      "cell_type": "code",
      "source": [
        "import tensorflow as tf\n",
        "train_df=tf.keras.utils.image_dataset_from_directory(\n",
        "    directory='/content/Training',\n",
        "    labels='inferred',\n",
        "    label_mode='int',\n",
        "    batch_size=32,\n",
        "    image_size=(256,256)\n",
        ")"
      ],
      "metadata": {
        "colab": {
          "base_uri": "https://localhost:8080/"
        },
        "id": "WLIzYJ2O_QA9",
        "outputId": "b89a2027-955d-4f8d-dd1c-5687480cc584"
      },
      "execution_count": 7,
      "outputs": [
        {
          "output_type": "stream",
          "name": "stdout",
          "text": [
            "Found 5712 files belonging to 4 classes.\n"
          ]
        }
      ]
    },
    {
      "cell_type": "code",
      "source": [
        "test_df=tf.keras.utils.image_dataset_from_directory(\n",
        "    directory='/content/Testing',\n",
        "    labels='inferred',\n",
        "    label_mode='int',\n",
        "    batch_size=32,\n",
        "    image_size=(256,256)\n",
        ")"
      ],
      "metadata": {
        "id": "Qb7qgSMP_RXM",
        "outputId": "9da81919-cedf-4932-b55c-de1b31083236",
        "colab": {
          "base_uri": "https://localhost:8080/"
        }
      },
      "execution_count": 8,
      "outputs": [
        {
          "output_type": "stream",
          "name": "stdout",
          "text": [
            "Found 1311 files belonging to 4 classes.\n"
          ]
        }
      ]
    },
    {
      "cell_type": "code",
      "source": [
        "def process(image,labels):\n",
        "  image=tf.cast(image/255,tf.float32)\n",
        "  return image,labels"
      ],
      "metadata": {
        "id": "aabQA8J-_5Nk"
      },
      "execution_count": 9,
      "outputs": []
    },
    {
      "cell_type": "code",
      "source": [
        "train_df=train_df.map(process)\n",
        "test_df=test_df.map(process)"
      ],
      "metadata": {
        "id": "6C2_iDFnAIEa"
      },
      "execution_count": 10,
      "outputs": []
    },
    {
      "cell_type": "code",
      "source": [
        "from tensorflow.keras import regularizers"
      ],
      "metadata": {
        "id": "Aan11choBYq-"
      },
      "execution_count": 11,
      "outputs": []
    },
    {
      "cell_type": "code",
      "source": [
        "model=Sequential()\n",
        "model.add(Conv2D(32,(3,3),activation='relu',padding='valid',input_shape=(256,256,3)))\n",
        "model.add(MaxPooling2D((2,2),strides=2,padding='valid'))\n",
        "model.add(Conv2D(64,(3,3),activation='relu',padding='valid'))\n",
        "model.add(MaxPooling2D((2,2),strides=2,padding='valid'))\n",
        "model.add(Conv2D(128,(3,3),activation='relu',padding='valid'))\n",
        "\n",
        "model.add(Flatten())\n",
        "model.add(Dense(128,activation='relu',kernel_regularizer=regularizers.l2(0.01)))\n",
        "model.add(Dropout(0.2))\n",
        "model.add(Dense(64,activation='relu',kernel_regularizer=regularizers.l2(0.01)))\n",
        "model.add(Dropout(0.2))\n",
        "model.add(Dense(4,activation='softmax'))"
      ],
      "metadata": {
        "id": "MBo_mlAJAO5D"
      },
      "execution_count": 15,
      "outputs": []
    },
    {
      "cell_type": "code",
      "source": [
        "model.summary()"
      ],
      "metadata": {
        "id": "owNeugHxBmAb",
        "outputId": "43d274b0-a1fe-4695-c97a-00e8f7219844",
        "colab": {
          "base_uri": "https://localhost:8080/"
        }
      },
      "execution_count": 16,
      "outputs": [
        {
          "output_type": "stream",
          "name": "stdout",
          "text": [
            "Model: \"sequential_3\"\n",
            "_________________________________________________________________\n",
            " Layer (type)                Output Shape              Param #   \n",
            "=================================================================\n",
            " conv2d_2 (Conv2D)           (None, 254, 254, 32)      896       \n",
            "                                                                 \n",
            " max_pooling2d_1 (MaxPoolin  (None, 127, 127, 32)      0         \n",
            " g2D)                                                            \n",
            "                                                                 \n",
            " conv2d_3 (Conv2D)           (None, 125, 125, 64)      18496     \n",
            "                                                                 \n",
            " max_pooling2d_2 (MaxPoolin  (None, 62, 62, 64)        0         \n",
            " g2D)                                                            \n",
            "                                                                 \n",
            " conv2d_4 (Conv2D)           (None, 60, 60, 128)       73856     \n",
            "                                                                 \n",
            " flatten (Flatten)           (None, 460800)            0         \n",
            "                                                                 \n",
            " dense (Dense)               (None, 128)               58982528  \n",
            "                                                                 \n",
            " dropout (Dropout)           (None, 128)               0         \n",
            "                                                                 \n",
            " dense_1 (Dense)             (None, 64)                8256      \n",
            "                                                                 \n",
            " dropout_1 (Dropout)         (None, 64)                0         \n",
            "                                                                 \n",
            " dense_2 (Dense)             (None, 4)                 260       \n",
            "                                                                 \n",
            "=================================================================\n",
            "Total params: 59084292 (225.39 MB)\n",
            "Trainable params: 59084292 (225.39 MB)\n",
            "Non-trainable params: 0 (0.00 Byte)\n",
            "_________________________________________________________________\n"
          ]
        }
      ]
    },
    {
      "cell_type": "code",
      "source": [
        "model.compile(optimizer='adam',loss='SparseCategoricalCrossentropy',metrics='accuracy')"
      ],
      "metadata": {
        "id": "lyEK_6K1BnIP"
      },
      "execution_count": 17,
      "outputs": []
    },
    {
      "cell_type": "code",
      "source": [
        "early_stopping=tf.keras.callbacks.EarlyStopping(\n",
        "    monitor=\"val_loss\",\n",
        "    min_delta=0.0001,\n",
        "    patience=20,\n",
        "    verbose=1,\n",
        "    mode=\"auto\",\n",
        "    baseline=None,\n",
        "    restore_best_weights=False,\n",
        "    start_from_epoch=0,\n",
        ")"
      ],
      "metadata": {
        "id": "4FJES6tBCWMx"
      },
      "execution_count": 18,
      "outputs": []
    },
    {
      "cell_type": "code",
      "source": [
        "history=model.fit(train_df,epochs=5,callbacks=early_stopping,validation_data=train_df)"
      ],
      "metadata": {
        "id": "Rw5wTVjHCdeH",
        "outputId": "99258b7b-b901-4d3e-987d-62a63054b18f",
        "colab": {
          "base_uri": "https://localhost:8080/"
        }
      },
      "execution_count": 23,
      "outputs": [
        {
          "output_type": "stream",
          "name": "stdout",
          "text": [
            "Epoch 1/5\n",
            "179/179 [==============================] - 1141s 6s/step - loss: 0.6767 - accuracy: 0.8867 - val_loss: 0.5404 - val_accuracy: 0.9307\n",
            "Epoch 2/5\n",
            "179/179 [==============================] - 1175s 7s/step - loss: 0.6510 - accuracy: 0.8957 - val_loss: 0.5081 - val_accuracy: 0.9315\n",
            "Epoch 3/5\n",
            "179/179 [==============================] - 1155s 6s/step - loss: 0.6587 - accuracy: 0.8955 - val_loss: 0.5086 - val_accuracy: 0.9336\n",
            "Epoch 4/5\n",
            "179/179 [==============================] - 1117s 6s/step - loss: 0.5574 - accuracy: 0.9107 - val_loss: 0.4715 - val_accuracy: 0.9315\n",
            "Epoch 5/5\n",
            "179/179 [==============================] - 1154s 6s/step - loss: 0.5954 - accuracy: 0.9020 - val_loss: 0.4987 - val_accuracy: 0.9338\n"
          ]
        }
      ]
    },
    {
      "cell_type": "code",
      "source": [
        "\n",
        "\n",
        "plt.plot(history.history['accuracy'],color='c',label='train')\n",
        "plt.plot(history.history['val_accuracy'],color='r',label='test')\n",
        "plt.legend()\n",
        "plt.show()\n"
      ],
      "metadata": {
        "id": "oT9bdEOXCw_n",
        "outputId": "1a8906e9-5548-4b6e-f61a-042498c0cc9c",
        "colab": {
          "base_uri": "https://localhost:8080/",
          "height": 430
        }
      },
      "execution_count": 24,
      "outputs": [
        {
          "output_type": "display_data",
          "data": {
            "text/plain": [
              "<Figure size 640x480 with 1 Axes>"
            ],
            "image/png": "[encoded data removed]"
          },
          "metadata": {}
        }
      ]
    },
    {
      "cell_type": "code",
      "source": [
        "\n",
        "plt.plot(history.history['loss'],color='c',label='train')\n",
        "plt.plot(history.history['val_loss'],color='r',label='test')\n",
        "plt.legend()\n",
        "plt.show()"
      ],
      "metadata": {
        "id": "iUMYB0aKC4vS",
        "outputId": "426983d2-5701-40e2-d4d9-c568fab30dbc",
        "colab": {
          "base_uri": "https://localhost:8080/",
          "height": 430
        }
      },
      "execution_count": 25,
      "outputs": [
        {
          "output_type": "display_data",
          "data": {
            "text/plain": [
              "<Figure size 640x480 with 1 Axes>"
            ],
            "image/png": "[encoded data removed]"
          },
          "metadata": {}
        }
      ]
    },
    {
      "cell_type": "code",
      "source": [],
      "metadata": {
        "id": "xxzsg9TYC6cL"
      },
      "execution_count": null,
      "outputs": []
    }
  ]
}